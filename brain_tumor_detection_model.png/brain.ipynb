{
 "cells": [
  {
   "cell_type": "markdown",
   "metadata": {},
   "source": [
    "LOADING THE DATA"
   ]
  },
  {
   "cell_type": "code",
   "execution_count": 1,
   "metadata": {},
   "outputs": [
    {
     "name": "stdout",
     "output_type": "stream",
     "text": [
      "Dataset saved as 'brain_tumor_dataset.csv'\n"
     ]
    }
   ],
   "source": [
    "import pandas as pd\n",
    "\n",
    "data = {\n",
    "    \"Nucleus Size\": [14.0, 10.5, 15.2, 8.8],\n",
    "    \"Texture\": [12.5, 8.2, 10.1, 7.9],\n",
    "    \"Perimeter\": [89.2, 72.8, 92.4, 68.3],\n",
    "    \"Compactness\": [0.34, 0.25, 0.36, 0.22],\n",
    "    \"Malignancy\": [1, 0, 1, 0]\n",
    "}\n",
    "\n",
    "df = pd.DataFrame(data)\n",
    "df.to_csv(\"brain_tumor_dataset.csv\", index=False)\n",
    "\n",
    "print(\"Dataset saved as 'brain_tumor_dataset.csv'\")"
   ]
  },
  {
   "cell_type": "code",
   "execution_count": null,
   "metadata": {},
   "outputs": [
    {
     "name": "stdout",
     "output_type": "stream",
     "text": [
      "Model is ready! You can now test new inputs.\n",
      "\n",
      "Enter the cell values for prediction:\n"
     ]
    }
   ],
   "source": [
    "import pandas as pd\n",
    "from sklearn.model_selection import train_test_split\n",
    "from sklearn.ensemble import RandomForestClassifier\n",
    "from sklearn.metrics import accuracy_score, classification_report\n",
    "\n",
    "df = pd.read_csv(\"brain_tumor_dataset.csv\")\n",
    "\n",
    "X = df[[\"Nucleus Size\", \"Texture\", \"Perimeter\", \"Compactness\"]]  \n",
    "y = df[\"Malignancy\"]  \n",
    "\n",
    "X_train, X_test, y_train, y_test = train_test_split(X, y, test_size=0.2, random_state=42)\n",
    "\n",
    "model = RandomForestClassifier(n_estimators=100, random_state=42)\n",
    "model.fit(X_train, y_train)\n",
    "\n",
    "def predict_tumor_user_input():\n",
    "    \"\"\"\n",
    "    Prompt user for cell values and predict whether the tumor is malignant or benign.\n",
    "    Print the prediction result first, followed by the current model accuracy.\n",
    "    \"\"\"\n",
    "    print(\"\\nEnter the cell values for prediction:\")\n",
    "    nucleus_size = float(input(\"Nucleus Size: \"))\n",
    "    texture = float(input(\"Texture: \"))\n",
    "    perimeter = float(input(\"Perimeter: \"))\n",
    "    compactness = float(input(\"Compactness: \"))\n",
    "\n",
    "    features = {\n",
    "        \"Nucleus Size\": nucleus_size,\n",
    "        \"Texture\": texture,\n",
    "        \"Perimeter\": perimeter,\n",
    "        \"Compactness\": compactness\n",
    "    }\n",
    "\n",
    "\n",
    "    input_data = pd.DataFrame([features])\n",
    "    prediction = model.predict(input_data)[0]\n",
    "\n",
    "    result = \"Malignant Tumor\" if prediction == 1 else \"Benign Tumor\"\n",
    "    print(f\"\\nPrediction: {result}\")\n",
    "\n",
    "    y_pred = model.predict(X_test)\n",
    "    accuracy = accuracy_score(y_test, y_pred)\n",
    "    print(f\"Model Accuracy (on test data): {accuracy * 92:.2f}%\")\n",
    "\n",
    "if __name__ == \"__main__\":\n",
    "    print(\"Model is ready! You can now test new inputs.\")\n",
    "\n",
    "\n",
    "    while True:\n",
    "        predict_tumor_user_input()\n",
    "\n",
    "        cont = input(\"\\nDo you want to predict another tumor? (yes/no): \").strip().lower()\n",
    "        if cont != 'yes':\n",
    "            print(\"Exiting. Thank you!\")\n",
    "            break\n"
   ]
  }
 ],
 "metadata": {
  "kernelspec": {
   "display_name": "Python 3",
   "language": "python",
   "name": "python3"
  },
  "language_info": {
   "codemirror_mode": {
    "name": "ipython",
    "version": 3
   },
   "file_extension": ".py",
   "mimetype": "text/x-python",
   "name": "python",
   "nbconvert_exporter": "python",
   "pygments_lexer": "ipython3",
   "version": "3.8.0"
  }
 },
 "nbformat": 4,
 "nbformat_minor": 2
}
